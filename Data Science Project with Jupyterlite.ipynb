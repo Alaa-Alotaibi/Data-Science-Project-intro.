{
  "metadata": {
    "language_info": {
      "codemirror_mode": {
        "name": "python",
        "version": 3
      },
      "file_extension": ".py",
      "mimetype": "text/x-python",
      "name": "python",
      "nbconvert_exporter": "python",
      "pygments_lexer": "ipython3",
      "version": "3.8"
    },
    "kernelspec": {
      "name": "python",
      "display_name": "Python (Pyodide)",
      "language": "python"
    }
  },
  "nbformat_minor": 4,
  "nbformat": 4,
  "cells": [
    {
      "cell_type": "markdown",
      "source": "# Data Science Project with Jupyterlite",
      "metadata": {}
    },
    {
      "cell_type": "markdown",
      "source": "# Introduction\n#Welcome to my data science project! In this notebook, I'll showcase various data science concepts and tools.\n",
      "metadata": {}
    },
    {
      "cell_type": "markdown",
      "source": "# Data Science Languages\n#- Python\n#- R\n#- SQL",
      "metadata": {}
    },
    {
      "cell_type": "markdown",
      "source": "# Data Science Libraries\n#- Pandas\n#- NumPy\n#- Matplotlib\n#- Seaborn",
      "metadata": {}
    },
    {
      "cell_type": "markdown",
      "source": "## Data Science Tools\n\n| Tool            | Description                             |\n| --------------- | --------------------------------------- |\n| Jupyter Notebook| Interactive computing and data analysis |\n| VSCode          | Integrated development environment      |\n| GitHub          | Version control and collaboration      |\n",
      "metadata": {}
    },
    {
      "cell_type": "markdown",
      "source": "# Arithmetic Expression Examples\n#Let's explore some basic arithmetic expressions.",
      "metadata": {}
    },
    {
      "cell_type": "code",
      "source": "result_multiply = 5 * 8\nresult_add = 10 + 15\nresult_multiply, result_add",
      "metadata": {
        "trusted": true
      },
      "execution_count": 6,
      "outputs": [
        {
          "execution_count": 6,
          "output_type": "execute_result",
          "data": {
            "text/plain": "(40, 25)"
          },
          "metadata": {}
        }
      ]
    },
    {
      "cell_type": "code",
      "source": "def minutes_to_hours(minutes):\n    return minutes / 60\nminutes_to_hours(120)",
      "metadata": {
        "trusted": true
      },
      "execution_count": 7,
      "outputs": [
        {
          "execution_count": 7,
          "output_type": "execute_result",
          "data": {
            "text/plain": "2.0"
          },
          "metadata": {}
        }
      ]
    },
    {
      "cell_type": "markdown",
      "source": "# Objectives\n#1. Explore data science languages.\n#2. Understand popular data science libraries.\n 3. Utilize common data science tools.",
      "metadata": {}
    },
    {
      "cell_type": "markdown",
      "source": "# Author\n- Alaa ^^",
      "metadata": {}
    }
  ]
}